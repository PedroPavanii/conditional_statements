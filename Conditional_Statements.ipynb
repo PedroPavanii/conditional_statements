{
  "nbformat": 4,
  "nbformat_minor": 0,
  "metadata": {
    "colab": {
      "provenance": []
    },
    "kernelspec": {
      "name": "python3",
      "display_name": "Python 3"
    },
    "language_info": {
      "name": "python"
    }
  },
  "cells": [
    {
      "cell_type": "markdown",
      "source": [
        "1.1"
      ],
      "metadata": {
        "id": "AyNMHvGuPsL9"
      }
    },
    {
      "cell_type": "code",
      "execution_count": null,
      "metadata": {
        "id": "uh0Jt0536rsv",
        "colab": {
          "base_uri": "https://localhost:8080/"
        },
        "outputId": "aa6ed522-d5d8-4294-c2e4-1e74e8a6adc6"
      },
      "outputs": [
        {
          "output_type": "stream",
          "name": "stdout",
          "text": [
            "To check if this number is even or odd, input the number here: a\n",
            "Put an integer number, characters and letters will not be accepted.\n"
          ]
        }
      ],
      "source": [
        "n1 =input('To check if this number is even or odd, input the number here: ')\n",
        "\n",
        "if n1.isdigit(): \n",
        "    n1 = int(n1)\n",
        "\n",
        "    if n1 % 2 == 0: \n",
        "        print(\"This number is even!!\")\n",
        "\n",
        "    elif n1 % 2 != 0: \n",
        "        print(\"This number is odd\")\n",
        "\n",
        "else:\n",
        "    print('Put an integer number, characters and letters will not be accepted.')\n",
        "   "
      ]
    },
    {
      "cell_type": "markdown",
      "source": [
        "1.2"
      ],
      "metadata": {
        "id": "x0H0RN6mQHA7"
      }
    },
    {
      "cell_type": "code",
      "source": [
        "n1 = int(input('Check whether the number is zero, positive or negative, input the number here: '))\n",
        "\n",
        "if n1 < 0:\n",
        "  print('This number is negative!!!')\n",
        "elif n1 > 0:\n",
        "  print('This number is positive!!!')\n",
        "else:\n",
        "  print('This number is zero!!!')\n"
      ],
      "metadata": {
        "colab": {
          "base_uri": "https://localhost:8080/"
        },
        "id": "LNm3U9p6QINu",
        "outputId": "a37c202d-6e5c-4c72-d8fd-5de2a441c19e"
      },
      "execution_count": null,
      "outputs": [
        {
          "output_type": "stream",
          "name": "stdout",
          "text": [
            "Check whether the number is zero, positive or negative, input the number hire: -4\n",
            "This number is negative!!!\n"
          ]
        }
      ]
    },
    {
      "cell_type": "markdown",
      "source": [
        "1.3"
      ],
      "metadata": {
        "id": "XM0ZgmImPUph"
      }
    },
    {
      "cell_type": "code",
      "source": [
        "#a. Below 25 - F\n",
        "#b. 25 to 45 - E\n",
        "#c. 45 to 60 - D\n",
        "#d. 60 to 75 - C\n",
        "#e. 75 to 90 - B\n",
        "#f. Above 90 - A\n",
        "\n",
        "\n",
        "nota = int(input('Enter your grade to know your grading:'))\n",
        "\n",
        "if nota <=100:\n",
        "\n",
        "    if nota <=25:\n",
        "        print('F')\n",
        "\n",
        "    elif nota <=45:\n",
        "        print('E')\n",
        "\n",
        "    elif nota <=60:\n",
        "        print('D')\n",
        "\n",
        "    elif nota <=75:\n",
        "        print('C')\n",
        "\n",
        "    elif nota <=90:\n",
        "        print('B')\n",
        "\n",
        "    elif nota >=91:\n",
        "        print('A')\n",
        "\n",
        "else:\n",
        "    print('Please,enter a valid number')\n"
      ],
      "metadata": {
        "id": "KTTZpEa8PV8Y",
        "colab": {
          "base_uri": "https://localhost:8080/"
        },
        "outputId": "3adf8c2d-9aca-46d2-ede8-c5319f69cc2a"
      },
      "execution_count": null,
      "outputs": [
        {
          "output_type": "stream",
          "name": "stdout",
          "text": [
            "Enter your grade to know your grading:102\n",
            "Please,enter a valid number\n"
          ]
        }
      ]
    }
  ]
}